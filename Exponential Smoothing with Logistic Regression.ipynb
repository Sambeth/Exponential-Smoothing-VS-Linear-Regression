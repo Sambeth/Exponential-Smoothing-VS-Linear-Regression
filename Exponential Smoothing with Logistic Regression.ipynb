{
 "cells": [
  {
   "cell_type": "markdown",
   "metadata": {},
   "source": [
    "## Part 1"
   ]
  },
  {
   "cell_type": "code",
   "execution_count": 256,
   "metadata": {},
   "outputs": [],
   "source": [
    "from math import sqrt\n",
    "import numpy as np\n",
    "import pandas as pd\n",
    "import matplotlib.pyplot as plt\n",
    "\n",
    "%matplotlib inline"
   ]
  },
  {
   "cell_type": "code",
   "execution_count": 257,
   "metadata": {
    "collapsed": true
   },
   "outputs": [],
   "source": [
    "stock_prices = [36.19, 36.37, 36.27, 33.51, 36.33, 35.02, 38.12, 46.61]\n",
    "x_values = [int(x) for x in range(1,9)]"
   ]
  },
  {
   "cell_type": "code",
   "execution_count": 258,
   "metadata": {
    "collapsed": true
   },
   "outputs": [],
   "source": [
    "data = pd.DataFrame([x_values, stock_prices], index=['Time Period', 'Stock Price'], columns=range(1,9))"
   ]
  },
  {
   "cell_type": "code",
   "execution_count": 259,
   "metadata": {},
   "outputs": [
    {
     "data": {
      "text/html": [
       "<div>\n",
       "<style>\n",
       "    .dataframe thead tr:only-child th {\n",
       "        text-align: right;\n",
       "    }\n",
       "\n",
       "    .dataframe thead th {\n",
       "        text-align: left;\n",
       "    }\n",
       "\n",
       "    .dataframe tbody tr th {\n",
       "        vertical-align: top;\n",
       "    }\n",
       "</style>\n",
       "<table border=\"1\" class=\"dataframe\">\n",
       "  <thead>\n",
       "    <tr style=\"text-align: right;\">\n",
       "      <th></th>\n",
       "      <th>1</th>\n",
       "      <th>2</th>\n",
       "      <th>3</th>\n",
       "      <th>4</th>\n",
       "      <th>5</th>\n",
       "      <th>6</th>\n",
       "      <th>7</th>\n",
       "      <th>8</th>\n",
       "    </tr>\n",
       "  </thead>\n",
       "  <tbody>\n",
       "    <tr>\n",
       "      <th>Time Period</th>\n",
       "      <td>1.00</td>\n",
       "      <td>2.00</td>\n",
       "      <td>3.00</td>\n",
       "      <td>4.00</td>\n",
       "      <td>5.00</td>\n",
       "      <td>6.00</td>\n",
       "      <td>7.00</td>\n",
       "      <td>8.00</td>\n",
       "    </tr>\n",
       "    <tr>\n",
       "      <th>Stock Price</th>\n",
       "      <td>36.19</td>\n",
       "      <td>36.37</td>\n",
       "      <td>36.27</td>\n",
       "      <td>33.51</td>\n",
       "      <td>36.33</td>\n",
       "      <td>35.02</td>\n",
       "      <td>38.12</td>\n",
       "      <td>46.61</td>\n",
       "    </tr>\n",
       "  </tbody>\n",
       "</table>\n",
       "</div>"
      ],
      "text/plain": [
       "                 1      2      3      4      5      6      7      8\n",
       "Time Period   1.00   2.00   3.00   4.00   5.00   6.00   7.00   8.00\n",
       "Stock Price  36.19  36.37  36.27  33.51  36.33  35.02  38.12  46.61"
      ]
     },
     "execution_count": 259,
     "metadata": {},
     "output_type": "execute_result"
    }
   ],
   "source": [
    "data"
   ]
  },
  {
   "cell_type": "code",
   "execution_count": 260,
   "metadata": {},
   "outputs": [
    {
     "data": {
      "text/html": [
       "<div>\n",
       "<style>\n",
       "    .dataframe thead tr:only-child th {\n",
       "        text-align: right;\n",
       "    }\n",
       "\n",
       "    .dataframe thead th {\n",
       "        text-align: left;\n",
       "    }\n",
       "\n",
       "    .dataframe tbody tr th {\n",
       "        vertical-align: top;\n",
       "    }\n",
       "</style>\n",
       "<table border=\"1\" class=\"dataframe\">\n",
       "  <thead>\n",
       "    <tr style=\"text-align: right;\">\n",
       "      <th></th>\n",
       "      <th>Stock Price</th>\n",
       "      <th>Time Period</th>\n",
       "    </tr>\n",
       "  </thead>\n",
       "  <tbody>\n",
       "    <tr>\n",
       "      <th>0</th>\n",
       "      <td>36.19</td>\n",
       "      <td>1</td>\n",
       "    </tr>\n",
       "    <tr>\n",
       "      <th>1</th>\n",
       "      <td>36.37</td>\n",
       "      <td>2</td>\n",
       "    </tr>\n",
       "    <tr>\n",
       "      <th>2</th>\n",
       "      <td>36.27</td>\n",
       "      <td>3</td>\n",
       "    </tr>\n",
       "    <tr>\n",
       "      <th>3</th>\n",
       "      <td>33.51</td>\n",
       "      <td>4</td>\n",
       "    </tr>\n",
       "    <tr>\n",
       "      <th>4</th>\n",
       "      <td>36.33</td>\n",
       "      <td>5</td>\n",
       "    </tr>\n",
       "    <tr>\n",
       "      <th>5</th>\n",
       "      <td>35.02</td>\n",
       "      <td>6</td>\n",
       "    </tr>\n",
       "    <tr>\n",
       "      <th>6</th>\n",
       "      <td>38.12</td>\n",
       "      <td>7</td>\n",
       "    </tr>\n",
       "    <tr>\n",
       "      <th>7</th>\n",
       "      <td>46.61</td>\n",
       "      <td>8</td>\n",
       "    </tr>\n",
       "  </tbody>\n",
       "</table>\n",
       "</div>"
      ],
      "text/plain": [
       "   Stock Price  Time Period\n",
       "0        36.19            1\n",
       "1        36.37            2\n",
       "2        36.27            3\n",
       "3        33.51            4\n",
       "4        36.33            5\n",
       "5        35.02            6\n",
       "6        38.12            7\n",
       "7        46.61            8"
      ]
     },
     "execution_count": 260,
     "metadata": {},
     "output_type": "execute_result"
    }
   ],
   "source": [
    "data = pd.DataFrame({'Time Period': x_values, 'Stock Price': stock_prices})\n",
    "data"
   ]
  },
  {
   "cell_type": "markdown",
   "metadata": {},
   "source": [
    "## Part 2"
   ]
  },
  {
   "cell_type": "markdown",
   "metadata": {},
   "source": [
    "\\begin{equation}\n",
    "F_{t+1} = \\alpha Y_{t} + (1 - \\alpha)F_t \\\\\n",
    "where \\\\\n",
    "F_{t+1} = forecast for the time period t + 1 \\\\\n",
    "Y_t = time series value \\\\\n",
    "F_t = forecast for time period t \\\\\n",
    "\\alpha = smoothing constant (between 0 and 1) \\\\\n",
    "note: F_1 = Y_1\n",
    "\\end{equation}"
   ]
  },
  {
   "cell_type": "code",
   "execution_count": 209,
   "metadata": {
    "collapsed": true
   },
   "outputs": [],
   "source": [
    "# exponential smoothing function\n",
    "def smoothing(alpha, t, Y, F, predict=None):\n",
    "    '''\n",
    "    Project smoothing exponent in graph\n",
    "    '''\n",
    "    global df\n",
    "    global prediction\n",
    "    if t[0] == 1:\n",
    "        F.append(Y[0])\n",
    "    \n",
    "    if predict == \"next\":\n",
    "        for period in range(len(t)):\n",
    "            smooth = alpha * Y[period] + (1 - alpha) * F[period]\n",
    "            F.append(smooth)\n",
    "        prediction = F.pop()\n",
    "    elif predict == None:\n",
    "        for period in range(len(t)-1):\n",
    "            smooth = alpha * Y[period] + (1 - alpha) * F[period]\n",
    "            F.append(smooth)\n",
    "        prediction = 0"
   ]
  },
  {
   "cell_type": "code",
   "execution_count": 210,
   "metadata": {
    "collapsed": true
   },
   "outputs": [],
   "source": [
    "# show forecast against time period on graph\n",
    "def forecast(data):\n",
    "    t = data['Time Period'].tolist()\n",
    "    Y = data['Stock Price'].tolist()\n",
    "    F = []\n",
    "    \n",
    "    appropriate = False\n",
    "    waiting = True\n",
    "    \n",
    "    while not appropriate:\n",
    "        alpha = float(input(\"Enter alpha value: \"))\n",
    "        smoothing(alpha, t, Y, F, 'next')\n",
    "        \n",
    "        # plot values on graph\n",
    "        if prediction != 0:\n",
    "            plt.plot('Time Period', 'Value', data=df, marker='o', markerfacecolor=\"blue\", markersize=12, color='skyblue', linewidth=4)\n",
    "            plt.plot('Time Period', 'Forecast', data=df, marker='', color='olive', linewidth=2)\n",
    "            plt.scatter(9, prediction, c='g', alpha=0.5, marker='X')\n",
    "            plt.xlabel('Time Period')\n",
    "            plt.ylabel('Stock Prices')\n",
    "            plt.legend()\n",
    "            plt.show()\n",
    "        \n",
    "        if prediction == 0:\n",
    "            plt.plot('Time Period', 'Value', data=df, marker='o', markerfacecolor=\"blue\", markersize=12, color='skyblue', linewidth=4)\n",
    "            plt.plot('Time Period', 'Forecast', data=df, marker='', color='olive', linewidth=2)\n",
    "            plt.xlabel('Time Period')\n",
    "            plt.ylabel('Stock Prices')\n",
    "            plt.legend()\n",
    "            plt.show()\n",
    "        \n",
    "        while waiting:\n",
    "            response = input(\"Is this appropraite: Y or N \")\n",
    "            if response == \"Y\":\n",
    "                appropriate = True\n",
    "                break\n",
    "            elif response == \"N\":\n",
    "                appropriate = False\n",
    "                break\n",
    "            else:\n",
    "                print(\"Please enter right values. Either 'Y' or 'No'.\")\n",
    "                continue"
   ]
  },
  {
   "cell_type": "code",
   "execution_count": 211,
   "metadata": {},
   "outputs": [
    {
     "name": "stdout",
     "output_type": "stream",
     "text": [
      "Enter alpha value: 0.78\n"
     ]
    },
    {
     "data": {
      "image/png": "[encoded data removed]",
      "text/plain": [
       "<matplotlib.figure.Figure at 0x7f4b00a5eb38>"
      ]
     },
     "metadata": {},
     "output_type": "display_data"
    },
    {
     "name": "stdout",
     "output_type": "stream",
     "text": [
      "Is this appropraite: Y or N Y\n"
     ]
    }
   ],
   "source": [
    "forecast(data)"
   ]
  },
  {
   "cell_type": "markdown",
   "metadata": {},
   "source": [
    "## Part 3"
   ]
  },
  {
   "cell_type": "markdown",
   "metadata": {},
   "source": [
    "This is a simple linear regression problem. I am going to develop a linear regression problem to predict the forcast for the 9th period based on the forcast for the preceding periods.\n",
    "\n",
    "A simple example of a linear equation for a linear regression model would look like this:\n",
    "\n",
    "\\begin{equation}\n",
    "Y = mX + b\n",
    "\\end{equation}\n",
    "\n",
    "In this case we have a simple linear regression problem so the above equation is just fine.\n",
    "\n",
    "`Y` is the dependent variable we are trying to predict.\n",
    "`X` is the independent variable that helps us predict `Y`.\n",
    "`m` is the slope/gradient of the regression line which represents the change of `X` with respect to change of `Y`.\n",
    "`b` refers to the constant on the y-intercept.\n",
    "\n",
    "A linear regression model seeks to find the best line that runs through scattered points on a graph. So in our training data above we have our `X` values which is the `Time Period` and `Y` values which is the `Stock Prices`. So  what our linear regression model is going to help us estimate are the coefficients `m` and `b`. "
   ]
  },
  {
   "cell_type": "markdown",
   "metadata": {},
   "source": [
    "Coefficients can be estimated as follows;\n",
    "\n",
    "\\begin{equation}\n",
    "m = \\frac{\\sum((X_i - \\bar X) * (Y_i - \\bar Y))}{\\sum((X_i - \\bar X)^2)}\n",
    "\\end{equation}"
   ]
  },
  {
   "cell_type": "markdown",
   "metadata": {},
   "source": [
    "\\begin{equation}\n",
    "m = \\frac{covariance(x, y)}{variance(x)}\n",
    "\\end{equation}"
   ]
  },
  {
   "cell_type": "markdown",
   "metadata": {},
   "source": [
    "\\begin{equation}\n",
    "b = \\bar Y - m * \\bar X\n",
    "\\end{equation}"
   ]
  },
  {
   "cell_type": "code",
   "execution_count": 261,
   "metadata": {},
   "outputs": [
    {
     "data": {
      "text/plain": [
       "<matplotlib.collections.PathCollection at 0x7f4b004a7630>"
      ]
     },
     "execution_count": 261,
     "metadata": {},
     "output_type": "execute_result"
    },
    {
     "data": {
      "image/png": "[encoded data removed]",
      "text/plain": [
       "<matplotlib.figure.Figure at 0x7f4b004e6390>"
      ]
     },
     "metadata": {},
     "output_type": "display_data"
    }
   ],
   "source": [
    "X = data['Time Period'].tolist()\n",
    "Y = data['Stock Price'].tolist()\n",
    "data = list(zip(X, Y))\n",
    "plt.scatter(X, Y)"
   ]
  },
  {
   "cell_type": "markdown",
   "metadata": {},
   "source": [
    "Based on the above equations, a mean of the input and output variables will be needed for further computing."
   ]
  },
  {
   "cell_type": "code",
   "execution_count": 272,
   "metadata": {
    "collapsed": true
   },
   "outputs": [],
   "source": [
    "def mean(points):\n",
    "    '''\n",
    "    Calculate the mean of data points\n",
    "    '''\n",
    "    return sum(points) / len(points)"
   ]
  },
  {
   "cell_type": "code",
   "execution_count": 273,
   "metadata": {
    "collapsed": true
   },
   "outputs": [],
   "source": [
    "def variance(points, mean):\n",
    "    '''\n",
    "    Calculate the variance of points\n",
    "    '''\n",
    "    return sum([pow((x - mean), 2) for x in points])"
   ]
  },
  {
   "cell_type": "code",
   "execution_count": 274,
   "metadata": {},
   "outputs": [
    {
     "name": "stdout",
     "output_type": "stream",
     "text": [
      "x stats: mean=5.000 variance=60.000\n",
      "y stats: mean=5.000 variance=60.000\n"
     ]
    }
   ],
   "source": [
    "# testing mean and variance functions\n",
    "x = [1,2,3,4,5,6,7,8,9]\n",
    "y = [9,8,7,6,5,4,3,2,1]\n",
    "mean_x, mean_y = mean(x), mean(y)\n",
    "var_x, var_y = variance(x, mean_x), variance(y, mean_y)\n",
    "print('x stats: mean=%.3f variance=%.3f' % (mean_x, var_x))\n",
    "print('y stats: mean=%.3f variance=%.3f' % (mean_y, var_y))"
   ]
  },
  {
   "cell_type": "markdown",
   "metadata": {},
   "source": [
    "Now that our simple functions are working like we want them to, we need to calculate the covariance.\n",
    "\n",
    "\\begin{equation}\n",
    "\\sum((X_i - \\bar X) * (Y_i - \\bar Y))\n",
    "\\end{equation}"
   ]
  },
  {
   "cell_type": "code",
   "execution_count": 275,
   "metadata": {
    "collapsed": true
   },
   "outputs": [],
   "source": [
    "def covariance(X, X_mean, Y, Y_mean):\n",
    "    '''\n",
    "    Calculate the covariance of data points\n",
    "    '''\n",
    "    cova = 0.0\n",
    "    for i in range(len(X)):\n",
    "        cova += (X[i] - X_mean) * (Y[i] - Y_mean)\n",
    "    return cova"
   ]
  },
  {
   "cell_type": "code",
   "execution_count": 276,
   "metadata": {},
   "outputs": [
    {
     "name": "stdout",
     "output_type": "stream",
     "text": [
      "Covariance: 8.000\n"
     ]
    }
   ],
   "source": [
    "# testing covariance function\n",
    "x = [1,2,4,3,5]\n",
    "y = [1,3,3,2,5]\n",
    "x_mean, y_mean = mean(x), mean(y)\n",
    "cova = covariance(x, x_mean, y, y_mean)\n",
    "print('Covariance: %.3f' % (cova))"
   ]
  },
  {
   "cell_type": "markdown",
   "metadata": {},
   "source": [
    "The next thing we need is to find the y-intercept of the line which is `b`. This simply the mean of `Y` minus gradient multiplied by the mean of `X`. Since we have all the building blocks ready, all we need to do is calculate our coefficients."
   ]
  },
  {
   "cell_type": "code",
   "execution_count": 277,
   "metadata": {
    "collapsed": true
   },
   "outputs": [],
   "source": [
    "def coefficients(data):\n",
    "    X = [row[0] for row in data]\n",
    "    Y = [row[1] for row in data]\n",
    "    X_mean, Y_mean = mean(X), mean(Y)\n",
    "    m = covariance(X, X_mean, Y, Y_mean) / variance(X, X_mean)\n",
    "    b = Y_mean - (m * X_mean)\n",
    "    return m, b"
   ]
  },
  {
   "cell_type": "code",
   "execution_count": 227,
   "metadata": {},
   "outputs": [
    {
     "data": {
      "text/plain": [
       "<zip at 0x7f4b005e2dc8>"
      ]
     },
     "execution_count": 227,
     "metadata": {},
     "output_type": "execute_result"
    }
   ],
   "source": []
  },
  {
   "cell_type": "code",
   "execution_count": 278,
   "metadata": {},
   "outputs": [
    {
     "name": "stdout",
     "output_type": "stream",
     "text": [
      "Coefficients: m=0.961, b=32.976\n"
     ]
    }
   ],
   "source": [
    "m, b = coefficients(data)\n",
    "print('Coefficients: m=%.3f, b=%.3f' % (m, b))"
   ]
  },
  {
   "cell_type": "markdown",
   "metadata": {},
   "source": [
    "Based on the coefficients estimates we have a simple linear equation like this:\n",
    "\n",
    "\\begin{equation}\n",
    "Y = 0.961X + 32.976\n",
    "\\end{equation}"
   ]
  },
  {
   "cell_type": "code",
   "execution_count": 281,
   "metadata": {},
   "outputs": [],
   "source": [
    "def simple_linear_regression(train, test):\n",
    "    predictions = []\n",
    "    m, b = coefficients(train)\n",
    "    for row in test:\n",
    "        Y = m * row[0] + b\n",
    "        predictions.append(Y)\n",
    "    return predictions"
   ]
  },
  {
   "cell_type": "code",
   "execution_count": 288,
   "metadata": {},
   "outputs": [],
   "source": [
    "# Calculate root mean squared error\n",
    "def rmse_metric(actual, predicted):\n",
    "    sum_error = 0.0\n",
    "    for i in range(len(actual)):\n",
    "        prediction_error = predicted[i] - actual[i]\n",
    "        sum_error += (prediction_error ** 2)\n",
    "    mean_error = sum_error / float(len(actual))\n",
    "    return sqrt(mean_error)\n",
    " \n",
    "# Evaluate regression algorithm on training dataset\n",
    "def evaluate_algorithm(dataset, algorithm):\n",
    "    test_set = list()\n",
    "    global predicted\n",
    "    for row in dataset:\n",
    "        row_copy = list(row)\n",
    "        row_copy[-1] = None\n",
    "        test_set.append(row_copy)\n",
    "    predicted = algorithm(dataset, test_set)\n",
    "    print(predicted)\n",
    "    actual = [row[-1] for row in dataset]\n",
    "    rmse = rmse_metric(actual, predicted)\n",
    "    return rmse"
   ]
  },
  {
   "cell_type": "code",
   "execution_count": 289,
   "metadata": {},
   "outputs": [
    {
     "name": "stdout",
     "output_type": "stream",
     "text": [
      "0.9614285714285715 32.97607142857143\n",
      "[33.9375, 34.89892857142857, 35.86035714285715, 36.82178571428572, 37.78321428571429, 38.74464285714286, 39.706071428571434, 40.667500000000004]\n",
      "RMSE: 3.004\n"
     ]
    }
   ],
   "source": [
    "rmse = evaluate_algorithm(data, simple_linear_regression)\n",
    "print(\"RMSE: %.3f\" % (rmse))"
   ]
  },
  {
   "cell_type": "code",
   "execution_count": 294,
   "metadata": {},
   "outputs": [
    {
     "data": {
      "text/plain": [
       "[<matplotlib.lines.Line2D at 0x7f4b0030b898>]"
      ]
     },
     "execution_count": 294,
     "metadata": {},
     "output_type": "execute_result"
    },
    {
     "data": {
      "image/png": "[encoded data removed]",
      "text/plain": [
       "<matplotlib.figure.Figure at 0x7f4b0030b7f0>"
      ]
     },
     "metadata": {},
     "output_type": "display_data"
    }
   ],
   "source": [
    "plt.scatter(X, Y)\n",
    "plt.plot(X, predicted)\n",
    "# plt.plot('Time Period', 'regression', data=data, marker='o', markerfacecolor=\"blue\", markersize=12, color='skyblue', linewidth=4)"
   ]
  },
  {
   "cell_type": "markdown",
   "metadata": {},
   "source": [
    "Lets predict for period 9 based on the liear regression coefficients"
   ]
  },
  {
   "cell_type": "code",
   "execution_count": 299,
   "metadata": {},
   "outputs": [
    {
     "name": "stdout",
     "output_type": "stream",
     "text": [
      "Period 9 stock price would be, 41.625\n"
     ]
    }
   ],
   "source": [
    "Y = 0.961 * 9 + 32.976\n",
    "print(\"Period 9 stock price would be, %.3f\" % (Y))"
   ]
  },
  {
   "cell_type": "code",
   "execution_count": null,
   "metadata": {
    "collapsed": true
   },
   "outputs": [],
   "source": []
  }
 ],
 "metadata": {
  "kernelspec": {
   "display_name": "Python 3",
   "language": "python",
   "name": "python3"
  },
  "language_info": {
   "codemirror_mode": {
    "name": "ipython",
    "version": 3
   },
   "file_extension": ".py",
   "mimetype": "text/x-python",
   "name": "python",
   "nbconvert_exporter": "python",
   "pygments_lexer": "ipython3",
   "version": "3.6.2"
  }
 },
 "nbformat": 4,
 "nbformat_minor": 2
}
